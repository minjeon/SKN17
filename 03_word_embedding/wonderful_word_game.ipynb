{
 "cells": [
  {
   "cell_type": "markdown",
   "id": "4e21696d",
   "metadata": {},
   "source": [
    "# 유사한 단어 찾기 게임"
   ]
  },
  {
   "cell_type": "markdown",
   "id": "2cb52f63",
   "metadata": {},
   "source": [
    "1. 사전 학습된 모델 또는 적절한 데이터셋을 찾는다.\n",
    "2. 워드 임베딩 모델을 학습시킨다\n",
    "3. 단어 유사도가 0.8 이상인 A, B를 랜덤 추출한다.\n",
    "4. A, B와 대응되는 C를 추출한다.\n",
    "5. D를 입력받는다.\n",
    "\n",
    "=>\n",
    "A:B = C:D 관계에 대응하는 D를 찾는 게임을 만든다.\n",
    "ex) A: 산, B: 바다, C: 나무, D: 물"
   ]
  },
  {
   "cell_type": "markdown",
   "id": "b94a2e55",
   "metadata": {},
   "source": [
    "**<출력 예시>**\n",
    "\n",
    "관계 [ 수긍 : 추락 = 대사관 : ?] <br>\n",
    "모델이 예측한 가장 적합한 단어 : 잠입 <br>\n",
    "당신의 답변과 모델 예측의 유사도 : 0.34 <br>\n",
    "아쉽네요. 더 생각해보세요."
   ]
  },
  {
   "cell_type": "code",
   "execution_count": 1,
   "id": "245600ff",
   "metadata": {},
   "outputs": [],
   "source": [
    "# 텍스트 전처리\n",
    "\n",
    "from lxml import etree      # xml, html 파일을 처리하기 위한 경량화된 라이브러리, etree : xml파일을 파싱하고 조작할 수 있는 함수 \n",
    "import re\n",
    "from nltk.tokenize import word_tokenize, sent_tokenize\n",
    "from nltk.corpus import stopwords\n",
    "import pandas as pd\n",
    "import json\n",
    "from konlpy.tag import Okt\n",
    "from gensim.models import Word2Vec"
   ]
  },
  {
   "cell_type": "code",
   "execution_count": 2,
   "id": "e3156d41",
   "metadata": {},
   "outputs": [
    {
     "name": "stdout",
     "output_type": "stream",
     "text": [
      "JSON 데이터의 최상위 키: dict_keys(['SJML'])\n"
     ]
    }
   ],
   "source": [
    "# BOBR210001636718.json 파일 경로\n",
    "file_path = 'data/BOBR210001636718.json'\n",
    "\n",
    "# JSON 파일 불러오기\n",
    "with open(file_path, 'r', encoding='utf-8') as f:\n",
    "    json_data = json.load(f)\n",
    "\n",
    "# 현재 json_data의 최상위 키들을 출력해봅니다.\n",
    "print(\"JSON 데이터의 최상위 키:\", json_data.keys())\n",
    "\n",
    "# 만약 'text' 키가 없다면, 오류가 발생합니다.\n",
    "# ['header', 'text', 'SJML'] 와 같이 'text'가 포함되어 있는지 확인하세요.\n",
    "# 만약 있다면, 오류는 다른 곳에서 발생했을 수 있습니다."
   ]
  },
  {
   "cell_type": "code",
   "execution_count": 3,
   "id": "8ad58213",
   "metadata": {},
   "outputs": [
    {
     "data": {
      "text/plain": [
       "[['이수근', '은', '너무', '화', '내다', '너무', '시끄럽다', ','],\n",
       " ['백',\n",
       "  '번',\n",
       "  '만',\n",
       "  '번',\n",
       "  '돈까스',\n",
       "  '가격',\n",
       "  '책정',\n",
       "  '은',\n",
       "  '이수근',\n",
       "  '맞다',\n",
       "  '봄',\n",
       "  '.',\n",
       "  '진짜',\n",
       "  '분명',\n",
       "  '서다',\n",
       "  '400',\n",
       "  '2만',\n",
       "  '인데',\n",
       "  '는',\n",
       "  '(',\n",
       "  '반',\n",
       "  '사회',\n",
       "  '적용',\n",
       "  ')',\n",
       "  '이네',\n",
       "  '이르다',\n",
       "  '욕',\n",
       "  '하다',\n",
       "  '사람',\n",
       "  '분명하다',\n",
       "  '생기다',\n",
       "  ','],\n",
       " ['왤케', '싸우다', '임'],\n",
       " ['그냥',\n",
       "  '소스',\n",
       "  '조그마하다',\n",
       "  '그릇',\n",
       "  '담기다',\n",
       "  '부어',\n",
       "  '먹다',\n",
       "  '찍다',\n",
       "  '먹다',\n",
       "  '알다',\n",
       "  '하다',\n",
       "  '않다',\n",
       "  ','],\n",
       " ['44만원', '식', '재료', '판매', '수익', '22만원', ',']]"
      ]
     },
     "execution_count": 3,
     "metadata": {},
     "output_type": "execute_result"
    }
   ],
   "source": [
    "file_path = './data/BOBR210001636718.json'\n",
    "\n",
    "with open(file_path, 'r', encoding='utf-8') as f:\n",
    "    json_data = json.load(f)\n",
    "\n",
    "sentences = [item['content'] for item in json_data['SJML']['text']]\n",
    "\n",
    "okt = Okt()\n",
    "def load_stopwords(file_path):\n",
    "    with open(file_path, 'r', encoding='UTF-8') as f:\n",
    "        stopwords = [line.strip() for line in f]\n",
    "    return stopwords\n",
    "ko_stopwords = load_stopwords('ko_stopwords.txt')\n",
    "\n",
    "preprocessed_data = []\n",
    "\n",
    "for sentence in sentences:\n",
    "    #nouns = okt.morphs(sentence)\n",
    "    tokens = okt.morphs(sentence, stem=True)\n",
    "    tokens = [token for token in tokens if token not in ko_stopwords]\n",
    "    preprocessed_data.append(tokens)\n",
    "\n",
    "preprocessed_data[:5]"
   ]
  },
  {
   "cell_type": "code",
   "execution_count": 4,
   "id": "b9c34490",
   "metadata": {},
   "outputs": [
    {
     "data": {
      "text/plain": [
       "(520, 100)"
      ]
     },
     "execution_count": 4,
     "metadata": {},
     "output_type": "execute_result"
    }
   ],
   "source": [
    "model = Word2Vec(\n",
    "    sentences=preprocessed_data,\n",
    "    vector_size=100,\n",
    "    window=5,\n",
    "    min_count=5, \n",
    "    sg=0\n",
    ")\n",
    "\n",
    "model.wv.vectors.shape"
   ]
  },
  {
   "cell_type": "code",
   "execution_count": 5,
   "id": "862cd528",
   "metadata": {},
   "outputs": [
    {
     "name": "stdout",
     "output_type": "stream",
     "text": [
      "A: 맛, B: 비속어\n"
     ]
    }
   ],
   "source": [
    "import random\n",
    "\n",
    "all_words = list(model.wv.index_to_key)\n",
    "    \n",
    "while True:\n",
    "    a_word, b_word = random.sample(all_words, 2)\n",
    "    similarity = model.wv.similarity(a_word, b_word)\n",
    "\n",
    "    if similarity >= 0.8:\n",
    "        print(f'A: {a_word}, B: {b_word}')\n",
    "        break"
   ]
  },
  {
   "cell_type": "code",
   "execution_count": null,
   "id": "ae15195b",
   "metadata": {},
   "outputs": [
    {
     "name": "stdout",
     "output_type": "stream",
     "text": [
      "관계 [맛 : 비속어 = 여유 : ?]\n",
      "\n",
      "모델이 예측한 가장 적합한 단어: 끄다\n",
      "아쉽네요. 더 생각해보세요.\n"
     ]
    }
   ],
   "source": [
    "candidate_c_words = [word for word in all_words if word not in [a_word, b_word]]\n",
    "\n",
    "c_word = random.choice(candidate_c_words)\n",
    "analogy_result = model.wv.most_similar(positive=[c_word, a_word], negative=[b_word], topn=1)\n",
    "\n",
    "predicted_d_word = analogy_result[0][0]\n",
    "\n",
    "print(f'관계 [{a_word} : {b_word} = {c_word} : ?]')\n",
    "\n",
    "user_input = input('모델이 예측한 가장 적합한 단어를 입력하세요: ').strip()\n",
    "\n",
    "print(f'\\n모델이 예측한 가장 적합한 단어: {predicted_d_word}')\n",
    "\n",
    "#if user_input in model.wv.key_to_index:\n",
    "#    similarity = model.wv.similarity(user_input, predicted_d_word)\n",
    "#    print(f'당신의 답 {user_input} 과 모델의 예측 유사도 : {similarity:.2f}')\n",
    "#else:\n",
    "#    print('아쉽네요. 더 생각해보세요.')\n",
    "\n",
    "similarity = model.wv.similarity(user_input, predicted_d_word)\n",
    "print(f'당신의 답 {user_input} 과 모델의 예측 유사도 : {similarity:.2f}')\n",
    "if similarity < 0.5:\n",
    "    print('아쉽네요. 더 생각해보세요.')\n"
   ]
  },
  {
   "cell_type": "markdown",
   "id": "020603c5",
   "metadata": {},
   "source": [
    "---"
   ]
  },
  {
   "cell_type": "code",
   "execution_count": 10,
   "id": "8509ff0d",
   "metadata": {},
   "outputs": [],
   "source": [
    "import os\n",
    "import json\n",
    "from konlpy.tag import Okt\n",
    "from gensim.models import Word2Vec\n",
    "\n",
    "# 1. 모든 JSON 파일의 경로를 가져오기\n",
    "file_list = [f for f in os.listdir('data/media') if f.startswith('BOBR') and f.endswith('.json')]\n",
    "file_paths = ['data/media/' + file for file in file_list]"
   ]
  },
  {
   "cell_type": "code",
   "execution_count": 11,
   "id": "10e0a68e",
   "metadata": {},
   "outputs": [],
   "source": [
    "# 2. 모든 파일의 데이터를 하나의 리스트로 통합\n",
    "all_sentences = []\n",
    "for file_path in file_paths:\n",
    "    with open(file_path, 'r', encoding='utf-8') as f:\n",
    "        json_data = json.load(f)\n",
    "    \n",
    "    # JSON 파일 구조에 맞춰 'content' 추출\n",
    "    sentences = [item['content'] for item in json_data['SJML']['text']]\n",
    "    all_sentences.extend(sentences)"
   ]
  },
  {
   "cell_type": "code",
   "execution_count": null,
   "id": "b9c09f60",
   "metadata": {},
   "outputs": [],
   "source": [
    "# 3. 데이터 전처리\n",
    "okt = Okt()\n",
    "\n",
    "def preprocess_text(text):\n",
    "    # 명사, 동사, 형용사만 추출하도록 정의\n",
    "    try:\n",
    "        nouns = okt.nouns(text)\n",
    "        verbs = [word[0] for word in okt.pos(text) if word[1] == 'Verb']\n",
    "        adjectives = [word[0] for word in okt.pos(text) if word[1] == 'Adjective']\n",
    "        return nouns + verbs + adjectives\n",
    "    except Exception:\n",
    "        return []\n",
    "\n",
    "processed_sentences = [preprocess_text(sentence) for sentence in all_sentences if isinstance(sentence, str) and len(sentence) > 0]\n",
    "\n",
    "print(f\"총 {len(file_list)}개의 파일에서 {len(all_sentences)}개의 문장을 불러왔습니다.\")\n",
    "print(f\"전처리 완료. 총 {len(processed_sentences)}개의 문장이 학습에 사용됩니다.\")"
   ]
  },
  {
   "cell_type": "code",
   "execution_count": null,
   "id": "e36c579f",
   "metadata": {},
   "outputs": [
    {
     "ename": "KeyboardInterrupt",
     "evalue": "",
     "output_type": "error",
     "traceback": [
      "\u001b[31m---------------------------------------------------------------------------\u001b[39m",
      "\u001b[31mKeyboardInterrupt\u001b[39m                         Traceback (most recent call last)",
      "\u001b[36mCell\u001b[39m\u001b[36m \u001b[39m\u001b[32mIn[7]\u001b[39m\u001b[32m, line 33\u001b[39m\n\u001b[32m     30\u001b[39m     \u001b[38;5;28;01mexcept\u001b[39;00m \u001b[38;5;167;01mException\u001b[39;00m:\n\u001b[32m     31\u001b[39m         \u001b[38;5;28;01mreturn\u001b[39;00m []\n\u001b[32m---> \u001b[39m\u001b[32m33\u001b[39m processed_sentences = [\u001b[43mpreprocess_text\u001b[49m\u001b[43m(\u001b[49m\u001b[43msentence\u001b[49m\u001b[43m)\u001b[49m \u001b[38;5;28;01mfor\u001b[39;00m sentence \u001b[38;5;129;01min\u001b[39;00m all_sentences \u001b[38;5;28;01mif\u001b[39;00m \u001b[38;5;28misinstance\u001b[39m(sentence, \u001b[38;5;28mstr\u001b[39m) \u001b[38;5;129;01mand\u001b[39;00m \u001b[38;5;28mlen\u001b[39m(sentence) > \u001b[32m0\u001b[39m]\n\u001b[32m     35\u001b[39m \u001b[38;5;28mprint\u001b[39m(\u001b[33mf\u001b[39m\u001b[33m\"\u001b[39m\u001b[33m총 \u001b[39m\u001b[38;5;132;01m{\u001b[39;00m\u001b[38;5;28mlen\u001b[39m(file_list)\u001b[38;5;132;01m}\u001b[39;00m\u001b[33m개의 파일에서 \u001b[39m\u001b[38;5;132;01m{\u001b[39;00m\u001b[38;5;28mlen\u001b[39m(all_sentences)\u001b[38;5;132;01m}\u001b[39;00m\u001b[33m개의 문장을 불러왔습니다.\u001b[39m\u001b[33m\"\u001b[39m)\n\u001b[32m     36\u001b[39m \u001b[38;5;28mprint\u001b[39m(\u001b[33mf\u001b[39m\u001b[33m\"\u001b[39m\u001b[33m전처리 완료. 총 \u001b[39m\u001b[38;5;132;01m{\u001b[39;00m\u001b[38;5;28mlen\u001b[39m(processed_sentences)\u001b[38;5;132;01m}\u001b[39;00m\u001b[33m개의 문장이 학습에 사용됩니다.\u001b[39m\u001b[33m\"\u001b[39m)\n",
      "\u001b[36mCell\u001b[39m\u001b[36m \u001b[39m\u001b[32mIn[7]\u001b[39m\u001b[32m, line 26\u001b[39m, in \u001b[36mpreprocess_text\u001b[39m\u001b[34m(text)\u001b[39m\n\u001b[32m     23\u001b[39m \u001b[38;5;28;01mdef\u001b[39;00m\u001b[38;5;250m \u001b[39m\u001b[34mpreprocess_text\u001b[39m(text):\n\u001b[32m     24\u001b[39m     \u001b[38;5;66;03m# 명사, 동사, 형용사만 추출하도록 정의\u001b[39;00m\n\u001b[32m     25\u001b[39m     \u001b[38;5;28;01mtry\u001b[39;00m:\n\u001b[32m---> \u001b[39m\u001b[32m26\u001b[39m         nouns = \u001b[43mokt\u001b[49m\u001b[43m.\u001b[49m\u001b[43mnouns\u001b[49m\u001b[43m(\u001b[49m\u001b[43mtext\u001b[49m\u001b[43m)\u001b[49m\n\u001b[32m     27\u001b[39m         verbs = [word[\u001b[32m0\u001b[39m] \u001b[38;5;28;01mfor\u001b[39;00m word \u001b[38;5;129;01min\u001b[39;00m okt.pos(text) \u001b[38;5;28;01mif\u001b[39;00m word[\u001b[32m1\u001b[39m] == \u001b[33m'\u001b[39m\u001b[33mVerb\u001b[39m\u001b[33m'\u001b[39m]\n\u001b[32m     28\u001b[39m         adjectives = [word[\u001b[32m0\u001b[39m] \u001b[38;5;28;01mfor\u001b[39;00m word \u001b[38;5;129;01min\u001b[39;00m okt.pos(text) \u001b[38;5;28;01mif\u001b[39;00m word[\u001b[32m1\u001b[39m] == \u001b[33m'\u001b[39m\u001b[33mAdjective\u001b[39m\u001b[33m'\u001b[39m]\n",
      "\u001b[36mFile \u001b[39m\u001b[32mc:\\Users\\user\\anaconda3\\envs\\nlp_env\\Lib\\site-packages\\konlpy\\tag\\_okt.py:83\u001b[39m, in \u001b[36mOkt.nouns\u001b[39m\u001b[34m(self, phrase)\u001b[39m\n\u001b[32m     80\u001b[39m \u001b[38;5;28;01mdef\u001b[39;00m\u001b[38;5;250m \u001b[39m\u001b[34mnouns\u001b[39m(\u001b[38;5;28mself\u001b[39m, phrase):\n\u001b[32m     81\u001b[39m \u001b[38;5;250m    \u001b[39m\u001b[33;03m\"\"\"Noun extractor.\"\"\"\u001b[39;00m\n\u001b[32m---> \u001b[39m\u001b[32m83\u001b[39m     tagged = \u001b[38;5;28;43mself\u001b[39;49m\u001b[43m.\u001b[49m\u001b[43mpos\u001b[49m\u001b[43m(\u001b[49m\u001b[43mphrase\u001b[49m\u001b[43m)\u001b[49m\n\u001b[32m     84\u001b[39m     \u001b[38;5;28;01mreturn\u001b[39;00m [s \u001b[38;5;28;01mfor\u001b[39;00m s, t \u001b[38;5;129;01min\u001b[39;00m tagged \u001b[38;5;28;01mif\u001b[39;00m t == \u001b[33m'\u001b[39m\u001b[33mNoun\u001b[39m\u001b[33m'\u001b[39m]\n",
      "\u001b[36mFile \u001b[39m\u001b[32mc:\\Users\\user\\anaconda3\\envs\\nlp_env\\Lib\\site-packages\\konlpy\\tag\\_okt.py:71\u001b[39m, in \u001b[36mOkt.pos\u001b[39m\u001b[34m(self, phrase, norm, stem, join)\u001b[39m\n\u001b[32m     59\u001b[39m \u001b[38;5;250m\u001b[39m\u001b[33;03m\"\"\"POS tagger.\u001b[39;00m\n\u001b[32m     60\u001b[39m \u001b[33;03mIn contrast to other classes in this subpackage,\u001b[39;00m\n\u001b[32m     61\u001b[39m \u001b[33;03mthis POS tagger doesn't have a `flatten` option,\u001b[39;00m\n\u001b[32m   (...)\u001b[39m\u001b[32m     67\u001b[39m \u001b[33;03m:param join: If True, returns joined sets of morph and tag.\u001b[39;00m\n\u001b[32m     68\u001b[39m \u001b[33;03m\"\"\"\u001b[39;00m\n\u001b[32m     69\u001b[39m validate_phrase_inputs(phrase)\n\u001b[32m---> \u001b[39m\u001b[32m71\u001b[39m tokens = \u001b[38;5;28;43mself\u001b[39;49m\u001b[43m.\u001b[49m\u001b[43mjki\u001b[49m\u001b[43m.\u001b[49m\u001b[43mtokenize\u001b[49m\u001b[43m(\u001b[49m\n\u001b[32m     72\u001b[39m \u001b[43m            \u001b[49m\u001b[43mphrase\u001b[49m\u001b[43m,\u001b[49m\n\u001b[32m     73\u001b[39m \u001b[43m            \u001b[49m\u001b[43mjpype\u001b[49m\u001b[43m.\u001b[49m\u001b[43mjava\u001b[49m\u001b[43m.\u001b[49m\u001b[43mlang\u001b[49m\u001b[43m.\u001b[49m\u001b[43mBoolean\u001b[49m\u001b[43m(\u001b[49m\u001b[43mnorm\u001b[49m\u001b[43m)\u001b[49m\u001b[43m,\u001b[49m\n\u001b[32m     74\u001b[39m \u001b[43m            \u001b[49m\u001b[43mjpype\u001b[49m\u001b[43m.\u001b[49m\u001b[43mjava\u001b[49m\u001b[43m.\u001b[49m\u001b[43mlang\u001b[49m\u001b[43m.\u001b[49m\u001b[43mBoolean\u001b[49m\u001b[43m(\u001b[49m\u001b[43mstem\u001b[49m\u001b[43m)\u001b[49m\u001b[43m)\u001b[49m.toArray()\n\u001b[32m     75\u001b[39m \u001b[38;5;28;01mif\u001b[39;00m join:\n\u001b[32m     76\u001b[39m     \u001b[38;5;28;01mreturn\u001b[39;00m [t \u001b[38;5;28;01mfor\u001b[39;00m t \u001b[38;5;129;01min\u001b[39;00m tokens]\n",
      "\u001b[31mKeyboardInterrupt\u001b[39m: "
     ]
    }
   ],
   "source": [
    "# 4. Word2Vec 모델 학습\n",
    "model = Word2Vec(\n",
    "    sentences=processed_sentences,\n",
    "    vector_size=100,\n",
    "    window=5,\n",
    "    min_count=5,\n",
    "    workers=4,\n",
    "    sg=0\n",
    ")\n",
    "\n",
    "print(\"\\n대량 데이터로 모델 학습 완료!\")"
   ]
  }
 ],
 "metadata": {
  "kernelspec": {
   "display_name": "nlp_env",
   "language": "python",
   "name": "python3"
  },
  "language_info": {
   "codemirror_mode": {
    "name": "ipython",
    "version": 3
   },
   "file_extension": ".py",
   "mimetype": "text/x-python",
   "name": "python",
   "nbconvert_exporter": "python",
   "pygments_lexer": "ipython3",
   "version": "3.12.11"
  }
 },
 "nbformat": 4,
 "nbformat_minor": 5
}
